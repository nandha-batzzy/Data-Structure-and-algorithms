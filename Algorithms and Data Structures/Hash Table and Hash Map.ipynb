{
 "cells": [
  {
   "cell_type": "markdown",
   "metadata": {},
   "source": [
    "Hash Table"
   ]
  },
  {
   "cell_type": "code",
   "execution_count": 5,
   "metadata": {},
   "outputs": [
    {
     "data": {
      "text/plain": [
       "[('march 6', 310.0),\n",
       " ('march 7', 340.0),\n",
       " ('march 8', 380.0),\n",
       " ('march 9', 302.0),\n",
       " ('march 10', 297.0),\n",
       " ('march 11', 323.0)]"
      ]
     },
     "execution_count": 5,
     "metadata": {},
     "output_type": "execute_result"
    }
   ],
   "source": [
    "def hash(self,key,value):\n",
    "    self.key = key\n",
    "    self.value = value\n",
    "Stock = []\n",
    "with open('stock_prices.csv') as f:\n",
    "    for i in f:\n",
    "        t = i.split(',')\n",
    "        day = t[0]\n",
    "        price = float(t[1])\n",
    "        Stock.append((day,price))\n",
    "Stock\n",
    "        \n",
    "    "
   ]
  },
  {
   "cell_type": "code",
   "execution_count": 6,
   "metadata": {},
   "outputs": [],
   "source": [
    "class gethash:\n",
    "    def __init__(self):\n",
    "        self.max = 10\n",
    "        self.arr = [None for i in range(self.max)]\n",
    "\n",
    "    def get_hash(self,key):\n",
    "        h = 0\n",
    "\n",
    "        for i in key:\n",
    "            ind = ord(i)\n",
    "            h = h+ind\n",
    "        return h%(self.max)\n",
    "\n",
    "    def __setitem__(self,key,val):\n",
    "        h = self.get_hash(key)\n",
    "        self.arr[h] = val\n",
    "    def __getitem__(self,key,val):\n",
    "        h = self.get_hash(key)\n",
    "        return self.arr[h]\n",
    "        "
   ]
  },
  {
   "cell_type": "code",
   "execution_count": 7,
   "metadata": {},
   "outputs": [
    {
     "data": {
      "text/plain": [
       "[None, 5, None, None, None, 2, None, None, 6, None]"
      ]
     },
     "execution_count": 7,
     "metadata": {},
     "output_type": "execute_result"
    }
   ],
   "source": [
    "t = gethash()\n",
    "t['nandha'] = 10\n",
    "t['aravind'] = 5\n",
    "t['tamil'] = 2\n",
    "t['surey'] = 6\n",
    "t.arr"
   ]
  },
  {
   "cell_type": "markdown",
   "metadata": {},
   "source": [
    "in the above t['nandha'] and t['surey'] will be having same index so the vallue will be repalced by suresh this is called collision.\n",
    "we can cure this by the below methods"
   ]
  },
  {
   "cell_type": "code",
   "execution_count": 8,
   "metadata": {},
   "outputs": [],
   "source": [
    "class gethash:\n",
    "    def __init__(self):\n",
    "        self.max = 10\n",
    "        self.arr = [[] for i in range(self.max)]\n",
    "\n",
    "    def get_hash(self,key):\n",
    "        h = 0\n",
    "\n",
    "        for i in key:\n",
    "            ind = ord(i)\n",
    "            h = h+ind\n",
    "        return h%(self.max)\n",
    "\n",
    "    def __getitem__(self,key):\n",
    "        h = self.get_hash(key)\n",
    "        for ele in self.arr[h]:\n",
    "            if ele[0] == key:\n",
    "                return ele[1] \n",
    "            \n",
    "    def __setitem__(self,key,val):\n",
    "        h = self.get_hash(key)\n",
    "        f = False\n",
    "        for idx, ele in enumerate(self.arr[h]):\n",
    "            if len(ele) == 2 and ele[0] == key:\n",
    "                self.arr[h][idx] = (key,val)\n",
    "                f = True\n",
    "                break\n",
    "        if not f:\n",
    "            self.arr[h].append((key,val))\n",
    "    def __delitem__(self,key):\n",
    "        h = self.get_hash(key)\n",
    "        for idx,ele in enumerate(self.arr[h]):\n",
    "            if ele[0] == key:\n",
    "                del  self.arr[h][idx]\n",
    "             "
   ]
  },
  {
   "cell_type": "code",
   "execution_count": 9,
   "metadata": {},
   "outputs": [
    {
     "data": {
      "text/plain": [
       "[[],\n",
       " [('aravind', 5)],\n",
       " [],\n",
       " [],\n",
       " [],\n",
       " [('tamil', 2)],\n",
       " [],\n",
       " [],\n",
       " [('nandha', 10), ('surey', 6)],\n",
       " []]"
      ]
     },
     "execution_count": 9,
     "metadata": {},
     "output_type": "execute_result"
    }
   ],
   "source": [
    "t = gethash()\n",
    "t['nandha'] = 10\n",
    "t['aravind'] = 5\n",
    "t['tamil'] = 2\n",
    "t['surey'] = 6\n",
    "t.arr"
   ]
  },
  {
   "cell_type": "code",
   "execution_count": 10,
   "metadata": {},
   "outputs": [
    {
     "data": {
      "text/plain": [
       "6"
      ]
     },
     "execution_count": 10,
     "metadata": {},
     "output_type": "execute_result"
    }
   ],
   "source": [
    "t['surey']"
   ]
  },
  {
   "cell_type": "code",
   "execution_count": 11,
   "metadata": {},
   "outputs": [],
   "source": [
    "del t[\"nandha\"]"
   ]
  },
  {
   "cell_type": "code",
   "execution_count": 12,
   "metadata": {},
   "outputs": [
    {
     "data": {
      "text/plain": [
       "[[], [('aravind', 5)], [], [], [], [('tamil', 2)], [], [], [('surey', 6)], []]"
      ]
     },
     "execution_count": 12,
     "metadata": {},
     "output_type": "execute_result"
    }
   ],
   "source": [
    "t.arr"
   ]
  },
  {
   "cell_type": "markdown",
   "metadata": {},
   "source": [
    "# Exercise"
   ]
  },
  {
   "cell_type": "code",
   "execution_count": 30,
   "metadata": {},
   "outputs": [],
   "source": [
    "lst = []\n",
    "with open(\"nyc_weather.csv\") as df:\n",
    "    for i in df:\n",
    "        t = i.split(',')\n",
    "        if t[0] == 'date':\n",
    "            continue\n",
    "        date = t[0]\n",
    "        temp = float(t[1].replace(\"\\n\", \"\"))\n",
    "        lst.append((date,temp))\n",
    "        \n",
    "class hashin():\n",
    "    def __init__(self):\n",
    "        self.max = len(lst)\n",
    "        self.arr = [[] for i in range(self.max)]\n",
    "    def gethash(self,key):\n",
    "        h = 0\n",
    "        for i in key:\n",
    "            c = ord(i)\n",
    "            h = h+c\n",
    "        return h%(self.max)\n",
    "    def __setitem__(self,key,val):\n",
    "        h = self.gethash(key)\n",
    "        f = False\n",
    "        for idx,ele in enumerate(self.arr[h]):\n",
    "            if len(ele) == 2 and ele[0] == key:\n",
    "                self.arr[h][idx] = (key,val)\n",
    "                f = True\n",
    "                break\n",
    "        if not f:\n",
    "            self.arr[h].append((key,val))\n",
    "             \n",
    "    def __getitem__(self,key):\n",
    "        h = self.gethash(key)\n",
    "        for ele in self.arr[h]:\n",
    "            if ele[0] == key:\n",
    "                return ele[1]\n",
    "    def avg(self,value,num):\n",
    "        h = self.gethash(key)\n",
    "            \n"
   ]
  },
  {
   "cell_type": "code",
   "execution_count": 31,
   "metadata": {},
   "outputs": [
    {
     "name": "stdout",
     "output_type": "stream",
     "text": [
      "35.57142857142857\n"
     ]
    }
   ],
   "source": [
    "t = hashin()\n",
    "c = 0\n",
    "m = 0\n",
    "for i in lst:\n",
    "    t[i[0]] = i[1]\n",
    "    m = m + t[i[0]]\n",
    "    if c == 7:\n",
    "        avg = m/7\n",
    "        print(avg)\n",
    "        break\n",
    "    c = c+1"
   ]
  },
  {
   "cell_type": "code",
   "execution_count": null,
   "metadata": {},
   "outputs": [],
   "source": [
    "\n"
   ]
  },
  {
   "cell_type": "code",
   "execution_count": 32,
   "metadata": {},
   "outputs": [
    {
     "data": {
      "text/plain": [
       "[[],\n",
       " [],\n",
       " [('Jan 1', 27.0)],\n",
       " [('Jan 2', 31.0)],\n",
       " [('Jan 3', 23.0)],\n",
       " [('Jan 4', 34.0)],\n",
       " [('Jan 5', 37.0)],\n",
       " [('Jan 6', 38.0)],\n",
       " [('Jan 7', 29.0)],\n",
       " [('Jan 8', 30.0)]]"
      ]
     },
     "execution_count": 32,
     "metadata": {},
     "output_type": "execute_result"
    }
   ],
   "source": [
    "t.arr"
   ]
  },
  {
   "cell_type": "code",
   "execution_count": 37,
   "metadata": {},
   "outputs": [
    {
     "data": {
      "text/plain": [
       "{'Two': 2,\n",
       " 'roads': 2,\n",
       " 'diverged': 2,\n",
       " 'in': 3,\n",
       " 'a': 3,\n",
       " 'yellow': 1,\n",
       " 'wood,': 2,\n",
       " 'And': 6,\n",
       " 'sorry': 1,\n",
       " 'I': 8,\n",
       " 'could': 2,\n",
       " 'not': 1,\n",
       " 'travel': 1,\n",
       " 'both': 2,\n",
       " 'be': 2,\n",
       " 'one': 3,\n",
       " 'traveler,': 1,\n",
       " 'long': 1,\n",
       " 'stood': 1,\n",
       " 'looked': 1,\n",
       " 'down': 1,\n",
       " 'as': 5,\n",
       " 'far': 1,\n",
       " 'To': 1,\n",
       " 'where': 1,\n",
       " 'it': 2,\n",
       " 'bent': 1,\n",
       " 'the': 8,\n",
       " 'undergrowth;': 1,\n",
       " 'Then': 1,\n",
       " 'took': 2,\n",
       " 'other,': 1,\n",
       " 'just': 1,\n",
       " 'fair,': 1,\n",
       " 'having': 1,\n",
       " 'perhaps': 1,\n",
       " 'better': 1,\n",
       " 'claim,': 1,\n",
       " 'Because': 1,\n",
       " 'was': 1,\n",
       " 'grassy': 1,\n",
       " 'and': 3,\n",
       " 'wanted': 1,\n",
       " 'wear;': 1,\n",
       " 'Though': 1,\n",
       " 'for': 2,\n",
       " 'that': 3,\n",
       " 'passing': 1,\n",
       " 'there': 1,\n",
       " 'Had': 1,\n",
       " 'worn': 1,\n",
       " 'them': 1,\n",
       " 'really': 1,\n",
       " 'about': 1,\n",
       " 'same,': 1,\n",
       " 'morning': 1,\n",
       " 'equally': 1,\n",
       " 'lay': 1,\n",
       " 'In': 1,\n",
       " 'leaves': 1,\n",
       " 'no': 1,\n",
       " 'step': 1,\n",
       " 'had': 1,\n",
       " 'trodden': 1,\n",
       " 'black.': 1,\n",
       " 'Oh,': 1,\n",
       " 'kept': 1,\n",
       " 'first': 1,\n",
       " 'another': 1,\n",
       " 'day!': 1,\n",
       " 'Yet': 1,\n",
       " 'knowing': 1,\n",
       " 'how': 1,\n",
       " 'way': 1,\n",
       " 'leads': 1,\n",
       " 'on': 1,\n",
       " 'to': 1,\n",
       " 'way,': 1,\n",
       " 'doubted': 1,\n",
       " 'if': 1,\n",
       " 'should': 1,\n",
       " 'ever': 1,\n",
       " 'come': 1,\n",
       " 'back.': 1,\n",
       " 'shall': 1,\n",
       " 'telling': 1,\n",
       " 'this': 1,\n",
       " 'with': 1,\n",
       " 'sigh': 1,\n",
       " 'Somewhere': 1,\n",
       " 'ages': 2,\n",
       " 'hence:': 1,\n",
       " 'Iâ€”': 1,\n",
       " 'less': 1,\n",
       " 'traveled': 1,\n",
       " 'by,': 1,\n",
       " 'has': 1,\n",
       " 'made': 1,\n",
       " 'all': 1,\n",
       " 'difference.': 1}"
      ]
     },
     "execution_count": 37,
     "metadata": {},
     "output_type": "execute_result"
    }
   ],
   "source": [
    "dic = {}\n",
    "c = 0\n",
    "with open(\"poem.txt\") as df:\n",
    "    for i in df:\n",
    "        j = i.split()\n",
    "        for a in j:\n",
    "            dic[a] = dic.get(a,0)+1\n",
    "dic\n",
    "                "
   ]
  },
  {
   "cell_type": "code",
   "execution_count": null,
   "metadata": {},
   "outputs": [],
   "source": []
  }
 ],
 "metadata": {
  "kernelspec": {
   "display_name": "Python 3",
   "language": "python",
   "name": "python3"
  },
  "language_info": {
   "codemirror_mode": {
    "name": "ipython",
    "version": 3
   },
   "file_extension": ".py",
   "mimetype": "text/x-python",
   "name": "python",
   "nbconvert_exporter": "python",
   "pygments_lexer": "ipython3",
   "version": "3.8.5"
  }
 },
 "nbformat": 4,
 "nbformat_minor": 4
}
