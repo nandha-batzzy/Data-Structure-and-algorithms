{
 "cells": [
  {
   "cell_type": "code",
   "execution_count": 14,
   "metadata": {},
   "outputs": [],
   "source": [
    "def bubble(elements,key):\n",
    "    lenn = len(elements)-1\n",
    "    for i in range(lenn):\n",
    "        for j in range(lenn-i):\n",
    "            if elements[j][key] > elements[j+1][key]:\n",
    "                temp = elements[j][key]\n",
    "                elements[j][key] = elements[j+1][key]\n",
    "                elements[j+1][key] = temp\n",
    "    return elements\n",
    "        "
   ]
  },
  {
   "cell_type": "code",
   "execution_count": 17,
   "metadata": {},
   "outputs": [
    {
     "name": "stdout",
     "output_type": "stream",
     "text": [
      "[{'name': 'mona', 'transaction_amount': 1000, 'device': 'google pixel'}, {'name': 'dhaval', 'transaction_amount': 400, 'device': 'iphone-10'}, {'name': 'kathy', 'transaction_amount': 200, 'device': 'iphone-8'}, {'name': 'aamir', 'transaction_amount': 800, 'device': 'vivo'}]\n"
     ]
    }
   ],
   "source": [
    "elements = [\n",
    "        { 'name': 'mona',   'transaction_amount': 1000, 'device': 'iphone-10'},\n",
    "        { 'name': 'dhaval', 'transaction_amount': 400,  'device': 'google pixel'},\n",
    "        { 'name': 'kathy',  'transaction_amount': 200,  'device': 'vivo'},\n",
    "        { 'name': 'aamir',  'transaction_amount': 800,  'device': 'iphone-8'},\n",
    "    ]\n",
    "print(bubble(elements,key='device' ))"
   ]
  },
  {
   "cell_type": "code",
   "execution_count": 11,
   "metadata": {},
   "outputs": [
    {
     "data": {
      "text/plain": [
       "200"
      ]
     },
     "execution_count": 11,
     "metadata": {},
     "output_type": "execute_result"
    }
   ],
   "source": []
  },
  {
   "cell_type": "code",
   "execution_count": null,
   "metadata": {},
   "outputs": [],
   "source": []
  }
 ],
 "metadata": {
  "kernelspec": {
   "display_name": "Python 3",
   "language": "python",
   "name": "python3"
  },
  "language_info": {
   "codemirror_mode": {
    "name": "ipython",
    "version": 3
   },
   "file_extension": ".py",
   "mimetype": "text/x-python",
   "name": "python",
   "nbconvert_exporter": "python",
   "pygments_lexer": "ipython3",
   "version": "3.8.5"
  }
 },
 "nbformat": 4,
 "nbformat_minor": 4
}
