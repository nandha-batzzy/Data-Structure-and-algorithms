{
 "cells": [
  {
   "cell_type": "code",
   "execution_count": 66,
   "metadata": {},
   "outputs": [],
   "source": [
    "arr =[2, 1, 5, 7, 2, 0, 5]\n",
    "c = []\n",
    "c.append(arr[0])\n",
    "for i in range(1,len(arr)):\n",
    "    key  = arr[i]\n",
    "    j = i-1\n",
    "    while j>=0 and key<arr[j]:\n",
    "        arr[j+1] = arr[j]\n",
    "        j = j-1\n",
    "    arr[j+1] = key\n",
    "    if (i+1)%2 == 0:\n",
    "        m = (i//2)\n",
    "        k = (i//2)+1\n",
    "        c.append((arr[m]+arr[k])/2)\n",
    "    if (i+1)%2 != 0:\n",
    "        l = (i//2)\n",
    "        c.append(arr[l])\n",
    "\n",
    "                 \n"
   ]
  },
  {
   "cell_type": "code",
   "execution_count": 67,
   "metadata": {},
   "outputs": [
    {
     "data": {
      "text/plain": [
       "[2, 1.5, 2, 3.5, 2, 2.0, 2]"
      ]
     },
     "execution_count": 67,
     "metadata": {},
     "output_type": "execute_result"
    }
   ],
   "source": [
    "c"
   ]
  }
 ],
 "metadata": {
  "kernelspec": {
   "display_name": "Python 3",
   "language": "python",
   "name": "python3"
  },
  "language_info": {
   "codemirror_mode": {
    "name": "ipython",
    "version": 3
   },
   "file_extension": ".py",
   "mimetype": "text/x-python",
   "name": "python",
   "nbconvert_exporter": "python",
   "pygments_lexer": "ipython3",
   "version": "3.8.5"
  }
 },
 "nbformat": 4,
 "nbformat_minor": 4
}
