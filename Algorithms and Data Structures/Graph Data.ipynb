{
 "cells": [
  {
   "cell_type": "code",
   "execution_count": 110,
   "metadata": {},
   "outputs": [],
   "source": [
    "class graph:\n",
    "    def __init__(self,edge):\n",
    "        self.edge = edge\n",
    "        self.graph_place = {}\n",
    "        for start,end in self.edge:\n",
    "            if start in self.graph_place:\n",
    "                self.graph_place[start].append(end)\n",
    "            else:\n",
    "                self.graph_place[start] = [end]\n",
    "        print(self.graph_place)\n",
    "    \n",
    "    def graph_route(self,start,end,path = []):\n",
    "        path = path + [start]\n",
    "        if start == end:\n",
    "            return [path]\n",
    "        if start not in self.graph_place:\n",
    "            return []\n",
    "        paths = []\n",
    "        for node in self.graph_place[start]:\n",
    "            if node not in path:\n",
    "                new_path = self.graph_route(node,end,path) \n",
    "                for p in new_path:\n",
    "                    paths.append(p)\n",
    "        return paths\n",
    "                    \n",
    "                \n",
    "                \n",
    "            "
   ]
  },
  {
   "cell_type": "code",
   "execution_count": 111,
   "metadata": {},
   "outputs": [
    {
     "name": "stdout",
     "output_type": "stream",
     "text": [
      "{'Mumbai': ['Pune', 'Surat'], 'Surat': ['Bangaluru'], 'Pune': ['Hyderabad', 'Mysuru'], 'Hyderabad': ['Bangaluru', 'Chennai'], 'Mysuru': ['Bangaluru'], 'Chennai': ['Bangaluru']}\n"
     ]
    }
   ],
   "source": [
    "if __name__ == \"__main__\":\n",
    "        routes = [\n",
    "        (\"Mumbai\",\"Pune\"),\n",
    "        (\"Mumbai\", \"Surat\"),\n",
    "        (\"Surat\", \"Bangaluru\"),\n",
    "        (\"Pune\",\"Hyderabad\"),\n",
    "        (\"Pune\",\"Mysuru\"),\n",
    "        (\"Hyderabad\",\"Bangaluru\"),\n",
    "        (\"Hyderabad\", \"Chennai\"),\n",
    "        (\"Mysuru\", \"Bangaluru\"),\n",
    "        (\"Chennai\", \"Bangaluru\")]\n",
    "        \n",
    "        route_graph = graph(routes)"
   ]
  },
  {
   "cell_type": "code",
   "execution_count": 114,
   "metadata": {},
   "outputs": [
    {
     "name": "stdout",
     "output_type": "stream",
     "text": [
      "[['Mumbai', 'Pune', 'Hyderabad', 'Bangaluru'], ['Mumbai', 'Pune', 'Hyderabad', 'Chennai', 'Bangaluru'], ['Mumbai', 'Pune', 'Mysuru', 'Bangaluru'], ['Mumbai', 'Surat', 'Bangaluru']]\n"
     ]
    }
   ],
   "source": [
    "print(route_graph.graph_route(\"Mumbai\",\"Bangaluru\"))"
   ]
  },
  {
   "cell_type": "code",
   "execution_count": null,
   "metadata": {},
   "outputs": [],
   "source": []
  },
  {
   "cell_type": "code",
   "execution_count": null,
   "metadata": {},
   "outputs": [],
   "source": []
  }
 ],
 "metadata": {
  "kernelspec": {
   "display_name": "Python 3",
   "language": "python",
   "name": "python3"
  },
  "language_info": {
   "codemirror_mode": {
    "name": "ipython",
    "version": 3
   },
   "file_extension": ".py",
   "mimetype": "text/x-python",
   "name": "python",
   "nbconvert_exporter": "python",
   "pygments_lexer": "ipython3",
   "version": "3.8.5"
  }
 },
 "nbformat": 4,
 "nbformat_minor": 4
}
