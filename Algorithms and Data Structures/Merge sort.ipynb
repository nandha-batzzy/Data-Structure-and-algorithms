{
 "cells": [
  {
   "cell_type": "code",
   "execution_count": 61,
   "metadata": {},
   "outputs": [],
   "source": [
    "def Merge_sort(arr,speci):\n",
    "    if len(arr) <= 1:\n",
    "        return\n",
    "        \n",
    "    mid = len(arr)//2\n",
    "    right = arr[:mid]\n",
    "    left = arr[mid:]\n",
    "    Merge_sort(right,speci)\n",
    "    Merge_sort(left,speci)\n",
    "    \n",
    "    return Merge_two_sorted(right,left,arr,speci)\n",
    "    \n",
    "\n",
    "def Merge_two_sorted(a,b,arr,speci):\n",
    "    lena = len(a)\n",
    "    lenb = len(b)\n",
    "    i = k = 0\n",
    "    j = 0\n",
    "    while i < lena and j < lenb:\n",
    "        if a[i][speci] < b[j][speci]:\n",
    "            arr[k] = a[i]\n",
    "            i = i +1\n",
    "        \n",
    "        elif a[i][speci] > b[j][speci]: \n",
    "            arr[k] = b[j]\n",
    "            j = j +1\n",
    "        k = k+1\n",
    "    while i < lena:\n",
    "        arr[k] = a[i]\n",
    "        i +=1\n",
    "        k +=1\n",
    "    while j < lenb:\n",
    "        arr[k] = b[j]\n",
    "        j += 1\n",
    "        k +=1"
   ]
  },
  {
   "cell_type": "code",
   "execution_count": 63,
   "metadata": {},
   "outputs": [
    {
     "name": "stdout",
     "output_type": "stream",
     "text": [
      "[{'name': 'rajab', 'age': 12, 'time_hours': 3}, {'name': 'vedanth', 'age': 17, 'time_hours': 1}, {'name': 'vignesh', 'age': 21, 'time_hours': 2.5}, {'name': 'chinmay', 'age': 24, 'time_hours': 1.5}]\n"
     ]
    }
   ],
   "source": [
    "elements = [\n",
    "        { 'name': 'vedanth',   'age': 17, 'time_hours': 1},\n",
    "        { 'name': 'rajab', 'age': 12,  'time_hours': 3},\n",
    "        { 'name': 'vignesh',  'age': 21,  'time_hours': 2.5},\n",
    "        { 'name': 'chinmay',  'age': 24,  'time_hours': 1.5},\n",
    "    ]\n",
    "\n",
    "Merge_sort(elements,'age')\n",
    "print(elements)\n",
    "        "
   ]
  },
  {
   "cell_type": "code",
   "execution_count": 55,
   "metadata": {},
   "outputs": [
    {
     "data": {
      "text/plain": [
       "'rajab'"
      ]
     },
     "execution_count": 55,
     "metadata": {},
     "output_type": "execute_result"
    }
   ],
   "source": [
    "elements[1]['name']"
   ]
  },
  {
   "cell_type": "code",
   "execution_count": null,
   "metadata": {},
   "outputs": [],
   "source": []
  }
 ],
 "metadata": {
  "kernelspec": {
   "display_name": "Python 3",
   "language": "python",
   "name": "python3"
  },
  "language_info": {
   "codemirror_mode": {
    "name": "ipython",
    "version": 3
   },
   "file_extension": ".py",
   "mimetype": "text/x-python",
   "name": "python",
   "nbconvert_exporter": "python",
   "pygments_lexer": "ipython3",
   "version": "3.8.5"
  }
 },
 "nbformat": 4,
 "nbformat_minor": 4
}
