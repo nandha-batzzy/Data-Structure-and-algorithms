{
 "cells": [
  {
   "cell_type": "code",
   "execution_count": 32,
   "metadata": {},
   "outputs": [
    {
     "name": "stdout",
     "output_type": "stream",
     "text": [
      "['aravind', 'balaji', 'nandha', 'suresh', 'tamil']\n",
      "nandha\n"
     ]
    }
   ],
   "source": [
    "class BinaryTree:\n",
    "    def __init__(self,data):\n",
    "        self.data = data\n",
    "        self.left = None\n",
    "        self.right = None\n",
    "\n",
    "    def add_tree(self,data):\n",
    "        if data == self.data:\n",
    "            return\n",
    "        if data < self.data:\n",
    "            if self.left:\n",
    "                return self.left.add_tree(data)\n",
    "            else:\n",
    "                self.left = BinaryTree(data)\n",
    "        else:\n",
    "            if self.right:\n",
    "                return self.right.add_tree(data)\n",
    "            else:\n",
    "                self.right = BinaryTree(data)\n",
    "\n",
    "    def inorderTree(self):\n",
    "        element = []\n",
    "        if self.left:\n",
    "            element = element + self.left.inorderTree()\n",
    "\n",
    "        element.append(self.data)\n",
    "\n",
    "        if self.right:\n",
    "            element = element + self.right.inorderTree()     \n",
    "\n",
    "\n",
    "        return element\n",
    "\n",
    "    def searchtree(self,val):\n",
    "        if self.data ==val:\n",
    "            return val\n",
    "        \n",
    "        if val < self.data:\n",
    "            if self.left:\n",
    "                return self.left.searchtree(val)\n",
    "            else:\n",
    "                return False\n",
    "        if val > self.data:\n",
    "            if self.right:\n",
    "                return self.right.searchtree(val)\n",
    "            else:\n",
    "                return False  \n",
    "\n",
    "def buid_tree(element):\n",
    "    root = BinaryTree(element[0])\n",
    "    for i in range(1,len(element)):\n",
    "        root.add_tree(element[i])\n",
    "\n",
    "    return root    \n",
    "\n",
    "\n",
    "\n",
    "if __name__ == '__main__':\n",
    "    num = ['nandha','suresh','balaji','tamil','aravind']\n",
    "    tree = buid_tree(num)\n",
    "    print(tree.inorderTree())\n",
    "    print(tree.searchtree('nandha'))"
   ]
  },
  {
   "cell_type": "code",
   "execution_count": null,
   "metadata": {},
   "outputs": [],
   "source": []
  },
  {
   "cell_type": "code",
   "execution_count": null,
   "metadata": {},
   "outputs": [],
   "source": []
  }
 ],
 "metadata": {
  "kernelspec": {
   "display_name": "Python 3",
   "language": "python",
   "name": "python3"
  },
  "language_info": {
   "codemirror_mode": {
    "name": "ipython",
    "version": 3
   },
   "file_extension": ".py",
   "mimetype": "text/x-python",
   "name": "python",
   "nbconvert_exporter": "python",
   "pygments_lexer": "ipython3",
   "version": "3.8.5"
  }
 },
 "nbformat": 4,
 "nbformat_minor": 4
}
